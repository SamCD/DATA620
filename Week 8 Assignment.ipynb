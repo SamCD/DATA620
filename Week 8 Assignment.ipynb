{
 "cells": [
  {
   "cell_type": "code",
   "execution_count": 146,
   "metadata": {},
   "outputs": [],
   "source": [
    "import nltk, re, pprint\n",
    "from nltk import word_tokenize\n",
    "from urllib import request\n",
    "#nltk.download('punkt')\n",
    "#nltk.download('stopwords')\n",
    "from nltk.corpus import stopwords\n",
    "import string\n",
    "import matplotlib.pyplot as plt\n",
    "%matplotlib inline\n",
    "import math\n",
    "import numpy as np\n",
    "from sklearn import linear_model as lm"
   ]
  },
  {
   "cell_type": "code",
   "execution_count": 13,
   "metadata": {},
   "outputs": [],
   "source": [
    "url = \"http://www.gutenberg.org/cache/epub/13065/pg13065.txt\"\n",
    "response = request.urlopen(url)\n",
    "raw = response.read().decode('utf-8-sig')"
   ]
  },
  {
   "cell_type": "code",
   "execution_count": 11,
   "metadata": {},
   "outputs": [
    {
     "name": "stdout",
     "output_type": "stream",
     "text": [
      "Beethoven's Letters 1790-1826, Vol 1 of 2\n"
     ]
    }
   ],
   "source": [
    "title = raw[:raw.index('\\n')].strip()\n",
    "print(title.replace('The Project Gutenberg EBook of ',''))"
   ]
  },
  {
   "cell_type": "code",
   "execution_count": 77,
   "metadata": {},
   "outputs": [],
   "source": [
    "beg = raw.find(\"BEETHOVEN'S LETTERS\")\n",
    "end = raw.find('End of Project Gutenberg')\n",
    "raw = raw[beg:end]\n",
    "\n",
    "pattern = r'''(?x)     # set flag to allow verbose regexps\n",
    "    (?:[A-Z]\\.)+       # abbreviations, e.g. U.S.A.\n",
    "  | \\w+(?:-\\w+)*       # words with optional internal hyphens\n",
    "  | \\$?\\d+(?:\\.\\d+)?%? # currency and percentages, e.g. $12.40, 82%\n",
    "  | \\.\\.\\.             # ellipsis\n",
    "#  | [][.,;\"'?():-_`]   # these are separate tokens; includes ], [\n",
    "'''\n",
    "\n",
    "tokens_raw = nltk.regexp_tokenize(raw,pattern)\n",
    "text = nltk.Text(tokens)"
   ]
  },
  {
   "cell_type": "markdown",
   "metadata": {},
   "source": [
    "How many total unique words are in the corpus? "
   ]
  },
  {
   "cell_type": "code",
   "execution_count": 89,
   "metadata": {},
   "outputs": [
    {
     "name": "stdout",
     "output_type": "stream",
     "text": [
      "The text has 4643 unique words\n"
     ]
    }
   ],
   "source": [
    "porter = nltk.PorterStemmer()\n",
    "lancaster = nltk.LancasterStemmer()\n",
    "\n",
    "stops = set(stopwords.words('english'))\n",
    "\n",
    "stems = {}\n",
    "tokens = []\n",
    "w = ''\n",
    "\n",
    "for word in tokens_raw:\n",
    "    if not word.isdigit() & word.isalnum():\n",
    "        w = porter.stem(word).translate(string.punctuation).lower()\n",
    "        tokens.append(w)\n",
    "        if w in stems:\n",
    "            if not word.lower() in stems[w]:\n",
    "                stems[w].append(word.lower())\n",
    "        else:\n",
    "            stems[w]=[word.lower()]\n",
    "\n",
    "fdist1 = nltk.FreqDist(tokens)\n",
    "filtered_word_freq = dict((word, freq) for word, freq in fdist1.items())\n",
    "#print(filtered_word_freq)\n",
    "print('The text has ' + str(len(filtered_word_freq.keys())) + ' unique words')"
   ]
  },
  {
   "cell_type": "markdown",
   "metadata": {},
   "source": [
    " How many unique words represent half of the total words in the corpus"
   ]
  },
  {
   "cell_type": "code",
   "execution_count": 124,
   "metadata": {},
   "outputs": [
    {
     "name": "stdout",
     "output_type": "stream",
     "text": [
      "68.0 unique words account for half of the total words in the corpus\n",
      "\n",
      "\n",
      "Top 200 Words:\n",
      "\n",
      "the ['the']\n",
      "to ['to']\n",
      "i ['i']\n",
      "of ['of']\n",
      "and ['and']\n",
      "in ['in']\n",
      "you ['you']\n",
      "my ['my']\n",
      "a ['a']\n",
      "that ['that']\n",
      "for ['for']\n",
      "me ['me', 'mes']\n",
      "as ['as']\n",
      "be ['be', 'being', 'beings']\n",
      "it ['it', 'its']\n",
      "have ['have', 'having']\n",
      "is ['is']\n",
      "your ['your', 'yours']\n",
      "thi ['this']\n",
      "with ['with']\n",
      "not ['not']\n",
      "on ['on']\n",
      "at ['at']\n",
      "beethoven ['beethoven']\n",
      "hi ['his']\n",
      "by ['by']\n",
      "so ['so']\n",
      "which ['which']\n",
      "but ['but']\n",
      "will ['will', 'willed', 'willing']\n",
      "he ['he']\n",
      "from ['from']\n",
      "wa ['was']\n",
      "all ['all']\n",
      "s ['s']\n",
      "no ['no', 'nos']\n",
      "him ['him']\n",
      "am ['am']\n",
      "may ['may']\n",
      "are ['are']\n",
      "an ['an']\n",
      "if ['if']\n",
      "one ['one', 'ones']\n",
      "time ['time', 'times']\n",
      "can ['can']\n",
      "shall ['shall']\n",
      "must ['must']\n",
      "do ['do', 'doing', 'doings']\n",
      "when ['when']\n",
      "or ['or']\n",
      "friend ['friend', 'friends']\n",
      "ha ['has', 'ha']\n",
      "would ['would']\n",
      "had ['had']\n",
      "onli ['only']\n",
      "work ['work', 'works', 'working']\n",
      "same ['same']\n",
      "letter ['letters', 'letter']\n",
      "been ['been']\n",
      "footnot ['footnote']\n",
      "wish ['wish', 'wishing', 'wished', 'wishes']\n",
      "what ['what']\n",
      "also ['also']\n",
      "more ['more']\n",
      "vienna ['vienna']\n",
      "ani ['any']\n",
      "dear ['dear']\n",
      "we ['we']\n",
      "these ['these']\n",
      "now ['now']\n",
      "some ['some']\n",
      "who ['who']\n",
      "myself ['myself']\n",
      "most ['most']\n",
      "other ['other', 'others']\n",
      "veri ['very']\n",
      "here ['here']\n",
      "see ['seeing', 'see']\n",
      "much ['much']\n",
      "day ['day', 'days']\n",
      "herr ['herr']\n",
      "princ ['prince', 'princes', 'princely']\n",
      "even ['even', 'evening']\n",
      "write ['writing', 'write', 'writes']\n",
      "give ['give', 'gives', 'giving']\n",
      "send ['send', 'sending']\n",
      "good ['good', 'goodness']\n",
      "archduk ['archduke']\n",
      "receiv ['receive', 'received', 'receiving']\n",
      "make ['make', 'making', 'makes']\n",
      "were ['were']\n",
      "music ['music', 'musical']\n",
      "them ['them']\n",
      "such ['such']\n",
      "feel ['feeling', 'feelings', 'feel', 'feels']\n",
      "soon ['soon']\n",
      "say ['say', 'saying', 'says']\n",
      "hope ['hope', 'hopes', 'hoping', 'hoped']\n",
      "know ['know', 'knows', 'knowing']\n",
      "year ['year', 'years']\n",
      "could ['could']\n",
      "still ['still']\n",
      "present ['present', 'presenting', 'presented']\n",
      "written ['written']\n",
      "beg ['beg', 'begs']\n",
      "about ['about']\n",
      "zmeskal ['zmeskall']\n",
      "great ['great', 'greatness']\n",
      "her ['her', 'hers']\n",
      "take ['taking', 'take', 'takes']\n",
      "should ['should']\n",
      "y.r.h. ['y.r.h.']\n",
      "rudolph ['rudolph']\n",
      "first ['first']\n",
      "how ['how']\n",
      "own ['own', 'owned']\n",
      "carl ['carl']\n",
      "they ['they']\n",
      "their ['their']\n",
      "concert ['concert', 'concerts']\n",
      "than ['than']\n",
      "there ['there']\n",
      "part ['part', 'parts', 'parting', 'parted']\n",
      "come ['coming', 'comes', 'come']\n",
      "ever ['ever']\n",
      "mean ['meanness', 'means', 'mean', 'meaning']\n",
      "never ['never']\n",
      "howev ['however']\n",
      "think ['think', 'thinking', 'thinks']\n",
      "possibl ['possible', 'possibly', 'possibility']\n",
      "our ['our']\n",
      "von ['von']\n",
      "publish ['published', 'publisher', 'publish', 'publishers']\n",
      "cannot ['cannot']\n",
      "too ['too']\n",
      "well ['well']\n",
      "rie ['ries']\n",
      "yet ['yet']\n",
      "florin ['florins', 'florin']\n",
      "befor ['before']\n",
      "onc ['once']\n",
      "inde ['indeed']\n",
      "hear ['hear', 'hearing']\n",
      "sonata ['sonatas', 'sonata']\n",
      "life ['life']\n",
      "kind ['kindness', 'kind']\n",
      "to-day ['to-day']\n",
      "given ['given']\n",
      "last ['last']\n",
      "then ['then']\n",
      "man ['man']\n",
      "appear ['appeared', 'appear', 'appears', 'appearance', 'appearing']\n",
      "esteem ['esteemed', 'esteem']\n",
      "though ['though']\n",
      "out ['out']\n",
      "ludwig ['ludwig']\n",
      "mani ['many']\n",
      "made ['made']\n",
      "love ['love', 'loved', 'loving', 'lovely', 'loves']\n",
      "van ['van']\n",
      "alway ['always']\n",
      "again ['again']\n",
      "did ['did']\n",
      "count ['count', 'counts']\n",
      "caus ['cause', 'causing', 'caused', 'causes']\n",
      "doubt ['doubt', 'doubts', 'doubtful']\n",
      "place ['place', 'placed', 'places']\n",
      "like ['like', 'likely', 'likeness']\n",
      "us ['us']\n",
      "whom ['whom']\n",
      "new ['new']\n",
      "affair ['affairs', 'affair', 'affaire']\n",
      "those ['those']\n",
      "everi ['every']\n",
      "into ['into']\n",
      "symphoni ['symphony', 'symphonies']\n",
      "after ['after']\n",
      "himself ['himself']\n",
      "entir ['entire', 'entirely']\n",
      "regard ['regarded', 'regard', 'regards']\n",
      "london ['london']\n",
      "go ['going', 'go']\n",
      "k. ['k.']\n",
      "long ['long', 'longing', 'longings', 'longs']\n",
      "best ['best', 'bestes']\n",
      "farewel ['farewell']\n",
      "oblig ['obliged', 'obliging', 'obligations', 'obliges', 'oblige']\n",
      "thu ['thus']\n",
      "find ['find', 'finding']\n",
      "let ['let', 'letting']\n",
      "littl ['little']\n",
      "op ['op']\n",
      "ducat ['ducats']\n",
      "subject ['subjects', 'subject']\n",
      "till ['till']\n",
      "perform ['perform', 'performances', 'performed', 'performance', 'performs', 'performers']\n",
      "thank ['thanks', 'thank', 'thanked', 'thankfully', 'thankful']\n",
      "c ['c']\n",
      "world ['world']\n"
     ]
    }
   ],
   "source": [
    "nWords = len(tokens_raw)\n",
    "n = 0.00\n",
    "w = 1.00\n",
    "counter = 1\n",
    "topWords = []\n",
    "for i in {k: v for k, v in sorted(filtered_word_freq.items(), key=lambda item: item[1], reverse=True)}.items():\n",
    "    counter+=1\n",
    "    n += i[1]\n",
    "    #print((w,i[0],i[1]))\n",
    "    topWords.append((counter,i[0],i[1]))\n",
    "    if n<=(nWords/2):\n",
    "        w += 1\n",
    "    if counter==200:\n",
    "        break\n",
    "print(str(w) + ' unique words account for half of the total words in the corpus')\n",
    "print('\\n')\n",
    "print('Top 200 Words:\\n')\n",
    "for i in topWords:\n",
    "    print(i[1], stems[i[1]])"
   ]
  },
  {
   "cell_type": "markdown",
   "metadata": {},
   "source": [
    "Does the observed relative frequency of these words follow Zipf’s law?"
   ]
  },
  {
   "cell_type": "code",
   "execution_count": 125,
   "metadata": {},
   "outputs": [
    {
     "name": "stdout",
     "output_type": "stream",
     "text": [
      "199\n"
     ]
    },
    {
     "data": {
      "image/png": "[encoded data removed]",
      "text/plain": [
       "<Figure size 432x288 with 1 Axes>"
      ]
     },
     "metadata": {
      "needs_background": "light"
     },
     "output_type": "display_data"
    }
   ],
   "source": [
    "topPlot = {i[0]:filtered_word_freq[i[1]] for i in topWords}\n",
    "print(len(topWords))\n",
    "plt.bar(range(len(topPlot)), list(topPlot.values()), align='center')\n",
    "#plt.xticks(range(len(topPlot)), list(topPlot.keys()))\n",
    "\n",
    "plt.show()"
   ]
  },
  {
   "cell_type": "code",
   "execution_count": 151,
   "metadata": {},
   "outputs": [],
   "source": [
    "zipf = [(math.log(i[0]),math.log(i[2])) for i in topWords]"
   ]
  },
  {
   "cell_type": "markdown",
   "metadata": {},
   "source": [
    "The graphed rank vs. frequency appears to show a somewhat steady proportionality, aligning with Zipf's law:"
   ]
  },
  {
   "cell_type": "code",
   "execution_count": 138,
   "metadata": {},
   "outputs": [
    {
     "data": {
      "text/plain": [
       "[<matplotlib.lines.Line2D at 0x1cdd924f978>]"
      ]
     },
     "execution_count": 138,
     "metadata": {},
     "output_type": "execute_result"
    },
    {
     "data": {
      "image/png": "[encoded data removed]",
      "text/plain": [
       "<Figure size 432x288 with 1 Axes>"
      ]
     },
     "metadata": {
      "needs_background": "light"
     },
     "output_type": "display_data"
    }
   ],
   "source": [
    "plt.plot([i[0] for i in zipf], [i[1] for i in zipf])"
   ]
  },
  {
   "cell_type": "markdown",
   "metadata": {},
   "source": [
    "Further, running a simple linear regression model gives a good R^2 score of ~0.97"
   ]
  },
  {
   "cell_type": "code",
   "execution_count": 150,
   "metadata": {},
   "outputs": [
    {
     "data": {
      "text/plain": [
       "0.9733787364685318"
      ]
     },
     "execution_count": 150,
     "metadata": {},
     "output_type": "execute_result"
    }
   ],
   "source": [
    "fit = lm.LinearRegression().fit(np.array([i[0] for i in zipf[:150]]).reshape(-1, 1), [i[1] for i in zipf[:150]])\n",
    "fit.score(np.array([i[0] for i in zipf[151:]]).reshape(-1, 1), [i[1] for i in zipf[151:]])"
   ]
  }
 ],
 "metadata": {
  "kernelspec": {
   "display_name": "Python 3",
   "language": "python",
   "name": "python3"
  },
  "language_info": {
   "codemirror_mode": {
    "name": "ipython",
    "version": 3
   },
   "file_extension": ".py",
   "mimetype": "text/x-python",
   "name": "python",
   "nbconvert_exporter": "python",
   "pygments_lexer": "ipython3",
   "version": "3.7.3"
  }
 },
 "nbformat": 4,
 "nbformat_minor": 2
}
